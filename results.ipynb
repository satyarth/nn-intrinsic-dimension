{
 "cells": [
  {
   "cell_type": "code",
   "execution_count": 1,
   "metadata": {
    "collapsed": true
   },
   "outputs": [],
   "source": [
    "import json\n",
    "import numpy as np\n",
    "from matplotlib import pyplot as plt\n",
    "from sklearn.kernel_ridge import KernelRidge\n",
    "\n",
    "from dispatcher import Decoder"
   ]
  },
  {
   "cell_type": "code",
   "execution_count": 2,
   "metadata": {
    "collapsed": true
   },
   "outputs": [],
   "source": [
    "with open('state.json') as f:\n",
    "    j = f.read()\n",
    "    state = json.loads(j, cls=Decoder)\n",
    "    "
   ]
  },
  {
   "cell_type": "code",
   "execution_count": 3,
   "metadata": {
    "collapsed": true
   },
   "outputs": [],
   "source": [
    "results = state['results']"
   ]
  },
  {
   "cell_type": "code",
   "execution_count": 4,
   "metadata": {},
   "outputs": [
    {
     "data": {
      "image/png": "[encoded data removed]",
      "text/plain": [
       "<Figure size 432x288 with 1 Axes>"
      ]
     },
     "metadata": {},
     "output_type": "display_data"
    }
   ],
   "source": [
    "epoch = -1\n",
    "\n",
    "ds = []\n",
    "test_accs = []\n",
    "train_accs = []\n",
    "for result in results:\n",
    "    ds.append(result['d'])\n",
    "    train_accs.append(result['train_acc_history'][epoch])\n",
    "    test_accs.append(result['test_acc_history'][epoch])\n",
    "\n",
    "model = KernelRidge(kernel='poly', degree=5, alpha=0.00000001, gamma=0.00001)\n",
    "model.fit(np.array(ds).reshape(-1, 1), test_accs)\n",
    "xs = np.arange(20, 1750, 5)\n",
    "preds = model.predict(np.array(xs).reshape(-1, 1))\n",
    "plt.plot(xs, preds)\n",
    "    \n",
    "plt.scatter(ds, test_accs)\n",
    "plt.scatter(ds, train_accs)\n",
    "plt.show()"
   ]
  },
  {
   "cell_type": "code",
   "execution_count": 5,
   "metadata": {},
   "outputs": [
    {
     "data": {
      "text/plain": [
       "[{'d': 200,\n",
       "  'job_id': 1,\n",
       "  'test_acc_history': [0.19655652866242038,\n",
       "   0.26681926751592355,\n",
       "   0.28602707006369427],\n",
       "  'train_acc_history': [0.19386227544910178,\n",
       "   0.26362899201596807,\n",
       "   0.281187624750499]},\n",
       " {'d': 400,\n",
       "  'job_id': 3,\n",
       "  'test_acc_history': [0.2294984076433121,\n",
       "   0.28523089171974525,\n",
       "   0.31727707006369427],\n",
       "  'train_acc_history': [0.23262849301397207,\n",
       "   0.2840880738522954,\n",
       "   0.31705339321357284]}]"
      ]
     },
     "execution_count": 5,
     "metadata": {},
     "output_type": "execute_result"
    }
   ],
   "source": [
    "results"
   ]
  },
  {
   "cell_type": "code",
   "execution_count": 6,
   "metadata": {},
   "outputs": [
    {
     "data": {
      "text/plain": [
       "{'done': {1: {'d': 200, 'seed': 110}, 3: {'d': 400, 'seed': 318}},\n",
       " 'n_jobs': 4,\n",
       " 'ongoing': {2: {'d': 300, 'seed': 5}},\n",
       " 'queue': {0: {'d': 100, 'seed': 54}, 2: {'d': 300, 'seed': 5}},\n",
       " 'results': [{'d': 200,\n",
       "   'job_id': 1,\n",
       "   'test_acc_history': [0.19655652866242038,\n",
       "    0.26681926751592355,\n",
       "    0.28602707006369427],\n",
       "   'train_acc_history': [0.19386227544910178,\n",
       "    0.26362899201596807,\n",
       "    0.281187624750499]},\n",
       "  {'d': 400,\n",
       "   'job_id': 3,\n",
       "   'test_acc_history': [0.2294984076433121,\n",
       "    0.28523089171974525,\n",
       "    0.31727707006369427],\n",
       "   'train_acc_history': [0.23262849301397207,\n",
       "    0.2840880738522954,\n",
       "    0.31705339321357284]}]}"
      ]
     },
     "execution_count": 6,
     "metadata": {},
     "output_type": "execute_result"
    }
   ],
   "source": [
    "state"
   ]
  },
  {
   "cell_type": "code",
   "execution_count": null,
   "metadata": {
    "collapsed": true
   },
   "outputs": [],
   "source": []
  }
 ],
 "metadata": {
  "kernelspec": {
   "display_name": "Python 3",
   "language": "python",
   "name": "python3"
  },
  "language_info": {
   "codemirror_mode": {
    "name": "ipython",
    "version": 3
   },
   "file_extension": ".py",
   "mimetype": "text/x-python",
   "name": "python",
   "nbconvert_exporter": "python",
   "pygments_lexer": "ipython3",
   "version": "3.6.4"
  }
 },
 "nbformat": 4,
 "nbformat_minor": 2
}
