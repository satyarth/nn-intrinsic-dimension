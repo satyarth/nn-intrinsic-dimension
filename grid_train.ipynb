{
 "cells": [
  {
   "cell_type": "code",
   "execution_count": 2,
   "metadata": {},
   "outputs": [],
   "source": [
    "import torch\n",
    "from torch import nn as nn\n",
    "from torch.nn import functional as F\n",
    "from torch.autograd import Variable\n",
    "\n",
    "import numpy as np\n",
    "from torchvision.datasets import MNIST\n",
    "import torchvision.transforms as transforms\n",
    "\n",
    "from modules import *\n",
    "from train_test import *\n",
    "from models import *\n",
    "\n",
    "from matplotlib import pyplot as plt\n",
    "%matplotlib inline"
   ]
  },
  {
   "cell_type": "code",
   "execution_count": 3,
   "metadata": {},
   "outputs": [],
   "source": [
    "tr_data = MNIST(root='./data', train=True, transform=transforms.ToTensor(), download=True)\n",
    "te_data = MNIST(root='./data', train=False, transform=transforms.ToTensor(), download=True)\n",
    "\n",
    "train_data = torch.utils.data.DataLoader(dataset=tr_data, batch_size=64, shuffle=True)\n",
    "test_data = torch.utils.data.DataLoader(dataset=te_data, batch_size=64, shuffle=True)"
   ]
  },
  {
   "cell_type": "code",
   "execution_count": 4,
   "metadata": {},
   "outputs": [],
   "source": [
    "class ProjConv(nn.Module):\n",
    "    def __init__(self, d):\n",
    "        super(ProjConv, self).__init__()\n",
    "        \n",
    "        self.basis_weights = nn.Parameter(torch.zeros(d, 1))\n",
    "        self.d = d\n",
    "        \n",
    "        self.conv1 = Conv2dRP(in_channels=1, out_channels=16, kernel_size=3, padding=1, d=d)\n",
    "        self.bn1 = BatchNorm2dRP(num_features=16, d=d)\n",
    "        self.relu1 = nn.ReLU()\n",
    "        self.mp1 = nn.MaxPool2d(2) #14x14\n",
    "        \n",
    "        self.conv2 = Conv2dRP(in_channels=16, out_channels=32, kernel_size=3, padding=1, d=d)\n",
    "        self.bn2 = BatchNorm2dRP(num_features=32, d=d)\n",
    "        self.relu2 = nn.ReLU()\n",
    "        self.mp2 = nn.MaxPool2d(2) #7x7\n",
    "        \n",
    "        self.av = nn.AvgPool2d(7)\n",
    "        self.lin1 = LinearRP(32, 10, d=d)\n",
    "        \n",
    "    def forward(self, x):\n",
    "        \n",
    "        x=self.conv1(x, self.basis_weights)\n",
    "        x =self.bn1(x, self.basis_weights)\n",
    "        x=self.relu1(x)\n",
    "        x=self.mp1(x)\n",
    "        x=self.conv2(x, self.basis_weights)\n",
    "        x =self.bn2(x, self.basis_weights)\n",
    "        x=self.relu2(x)\n",
    "        x=self.mp2(x)\n",
    "        \n",
    "        x=self.av(x)\n",
    "        x=self.lin1(x.view(x.size(0),-1), self.basis_weights)\n",
    "        \n",
    "        return x"
   ]
  },
  {
   "cell_type": "code",
   "execution_count": 6,
   "metadata": {},
   "outputs": [],
   "source": [
    "model_rp = ProjConv\n",
    "opt = torch.optim.Adam\n",
    "criterion = nn.CrossEntropyLoss()"
   ]
  },
  {
   "cell_type": "code",
   "execution_count": 7,
   "metadata": {},
   "outputs": [
    {
     "data": {
      "image/png": "[encoded data removed]",
      "text/plain": [
       "<matplotlib.figure.Figure at 0x7feec2e6d390>"
      ]
     },
     "metadata": {},
     "output_type": "display_data"
    },
    {
     "name": "stderr",
     "output_type": "stream",
     "text": [
      "4it [10:34, 158.56s/it]\n"
     ]
    },
    {
     "data": {
      "image/png": "[encoded data removed]",
      "text/plain": [
       "<matplotlib.figure.Figure at 0x7feec2e6d390>"
      ]
     },
     "metadata": {},
     "output_type": "display_data"
    }
   ],
   "source": [
    "a, b = Dgrid_train(network_class=model_rp, \n",
    "                   network_args={'d':None}, \n",
    "                   optimizer_class=opt, \n",
    "                   optimizer_args={'lr':0.001},\n",
    "                   criterion=criterion, \n",
    "                   train_data=train_data, \n",
    "                   test_data=test_data, \n",
    "                   epoches=3, \n",
    "                   flatten = False,\n",
    "                   d_range=[3,10,100,300], \n",
    "                   verbose=True)"
   ]
  },
  {
   "cell_type": "code",
   "execution_count": null,
   "metadata": {},
   "outputs": [],
   "source": []
  }
 ],
 "metadata": {
  "kernelspec": {
   "display_name": "Python 3",
   "language": "python",
   "name": "python3"
  },
  "language_info": {
   "codemirror_mode": {
    "name": "ipython",
    "version": 3
   },
   "file_extension": ".py",
   "mimetype": "text/x-python",
   "name": "python",
   "nbconvert_exporter": "python",
   "pygments_lexer": "ipython3",
   "version": "3.6.4"
  }
 },
 "nbformat": 4,
 "nbformat_minor": 2
}
