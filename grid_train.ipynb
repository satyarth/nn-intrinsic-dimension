{
 "cells": [
  {
   "cell_type": "code",
   "execution_count": 1,
   "metadata": {
    "collapsed": true
   },
   "outputs": [],
   "source": [
    "import torch\n",
    "from torch import nn as nn\n",
    "from torch.nn import functional as F\n",
    "from torch.autograd import Variable\n",
    "\n",
    "from torchvision.datasets import MNIST\n",
    "import torchvision.transforms as transforms\n",
    "\n",
    "from dispatcher import Dispatcher\n",
    "from train_test import Dgrid_train\n",
    "from models import ConvRP\n"
   ]
  },
  {
   "cell_type": "code",
   "execution_count": 2,
   "metadata": {
    "collapsed": true
   },
   "outputs": [],
   "source": [
    "tr_data = MNIST(root='./data', train=True, transform=transforms.ToTensor(), download=True)\n",
    "te_data = MNIST(root='./data', train=False, transform=transforms.ToTensor(), download=True)\n",
    "\n",
    "train_data = torch.utils.data.DataLoader(dataset=tr_data, batch_size=64, shuffle=True)\n",
    "test_data = torch.utils.data.DataLoader(dataset=te_data, batch_size=64, shuffle=True)"
   ]
  },
  {
   "cell_type": "code",
   "execution_count": 3,
   "metadata": {
    "collapsed": true
   },
   "outputs": [],
   "source": [
    "dispatcher = Dispatcher()\n",
    "# dispatcher.init_state()\n",
    "\n",
    "# Uncomment to add some jobs\n",
    "ds = [5, 75, 100, 175, 225, 275, 325, 475, 800, 900]*4\n",
    "for d in ds:\n",
    "    dispatcher.add_job(d)"
   ]
  },
  {
   "cell_type": "code",
   "execution_count": 4,
   "metadata": {},
   "outputs": [
    {
     "data": {
      "text/plain": [
       "{'queue': {1: {'seed': 304, 'd': 50},\n",
       "  2: {'seed': 324, 'd': 150},\n",
       "  3: {'seed': 76, 'd': 200},\n",
       "  5: {'seed': 177, 'd': 300},\n",
       "  6: {'seed': 15, 'd': 400},\n",
       "  7: {'seed': 121, 'd': 500},\n",
       "  8: {'seed': 356, 'd': 600},\n",
       "  11: {'seed': 230, 'd': 50},\n",
       "  12: {'seed': 23, 'd': 150},\n",
       "  14: {'seed': 284, 'd': 250},\n",
       "  15: {'seed': 74, 'd': 300},\n",
       "  16: {'seed': 417, 'd': 400},\n",
       "  17: {'seed': 335, 'd': 500},\n",
       "  18: {'seed': 300, 'd': 600},\n",
       "  19: {'seed': 311, 'd': 700},\n",
       "  20: {'seed': 166, 'd': 5},\n",
       "  21: {'seed': 254, 'd': 50},\n",
       "  22: {'seed': 67, 'd': 150},\n",
       "  23: {'seed': 356, 'd': 200},\n",
       "  25: {'seed': 50, 'd': 300},\n",
       "  26: {'seed': 62, 'd': 400},\n",
       "  28: {'seed': 18, 'd': 600},\n",
       "  29: {'seed': 227, 'd': 700},\n",
       "  31: {'seed': 114, 'd': 50},\n",
       "  33: {'seed': 201, 'd': 200},\n",
       "  34: {'seed': 259, 'd': 250},\n",
       "  35: {'seed': 321, 'd': 300},\n",
       "  36: {'seed': 70, 'd': 400},\n",
       "  38: {'seed': 125, 'd': 600},\n",
       "  39: {'seed': 75, 'd': 700},\n",
       "  40: {'seed': 221, 'd': 5},\n",
       "  41: {'seed': 220, 'd': 75},\n",
       "  42: {'seed': 270, 'd': 100},\n",
       "  43: {'seed': 176, 'd': 1750},\n",
       "  44: {'seed': 20, 'd': 225},\n",
       "  45: {'seed': 197, 'd': 275},\n",
       "  46: {'seed': 84, 'd': 325},\n",
       "  47: {'seed': 313, 'd': 475},\n",
       "  48: {'seed': 304, 'd': 800},\n",
       "  49: {'seed': 4, 'd': 900},\n",
       "  50: {'seed': 23, 'd': 5},\n",
       "  51: {'seed': 253, 'd': 75},\n",
       "  52: {'seed': 97, 'd': 100},\n",
       "  53: {'seed': 283, 'd': 1750},\n",
       "  54: {'seed': 263, 'd': 225},\n",
       "  55: {'seed': 156, 'd': 275},\n",
       "  56: {'seed': 73, 'd': 325},\n",
       "  57: {'seed': 110, 'd': 475},\n",
       "  58: {'seed': 184, 'd': 800},\n",
       "  59: {'seed': 264, 'd': 900},\n",
       "  60: {'seed': 330, 'd': 5},\n",
       "  61: {'seed': 299, 'd': 75},\n",
       "  62: {'seed': 215, 'd': 100},\n",
       "  63: {'seed': 30, 'd': 1750},\n",
       "  64: {'seed': 411, 'd': 225},\n",
       "  65: {'seed': 55, 'd': 275},\n",
       "  66: {'seed': 163, 'd': 325},\n",
       "  67: {'seed': 210, 'd': 475},\n",
       "  68: {'seed': 156, 'd': 800},\n",
       "  69: {'seed': 2, 'd': 900},\n",
       "  70: {'seed': 294, 'd': 5},\n",
       "  71: {'seed': 191, 'd': 75},\n",
       "  72: {'seed': 86, 'd': 100},\n",
       "  73: {'seed': 28, 'd': 1750},\n",
       "  74: {'seed': 63, 'd': 225},\n",
       "  75: {'seed': 221, 'd': 275},\n",
       "  76: {'seed': 301, 'd': 325},\n",
       "  77: {'seed': 352, 'd': 475},\n",
       "  78: {'seed': 164, 'd': 800},\n",
       "  79: {'seed': 70, 'd': 900},\n",
       "  80: {'seed': 164, 'd': 5},\n",
       "  81: {'seed': 269, 'd': 75},\n",
       "  82: {'seed': 339, 'd': 100},\n",
       "  83: {'seed': 79, 'd': 1750},\n",
       "  84: {'seed': 300, 'd': 225},\n",
       "  85: {'seed': 347, 'd': 275},\n",
       "  86: {'seed': 261, 'd': 325},\n",
       "  87: {'seed': 124, 'd': 475},\n",
       "  88: {'seed': 85, 'd': 800},\n",
       "  89: {'seed': 342, 'd': 900},\n",
       "  90: {'seed': 387, 'd': 5},\n",
       "  91: {'seed': 11, 'd': 75},\n",
       "  92: {'seed': 15, 'd': 100},\n",
       "  93: {'seed': 120, 'd': 1750},\n",
       "  94: {'seed': 248, 'd': 225},\n",
       "  95: {'seed': 77, 'd': 275},\n",
       "  96: {'seed': 329, 'd': 325},\n",
       "  97: {'seed': 85, 'd': 475},\n",
       "  98: {'seed': 401, 'd': 800},\n",
       "  99: {'seed': 403, 'd': 900},\n",
       "  100: {'seed': 9, 'd': 5},\n",
       "  101: {'seed': 197, 'd': 75},\n",
       "  102: {'seed': 105, 'd': 100},\n",
       "  103: {'seed': 86, 'd': 1750},\n",
       "  104: {'seed': 300, 'd': 225},\n",
       "  105: {'seed': 109, 'd': 275},\n",
       "  106: {'seed': 80, 'd': 325},\n",
       "  107: {'seed': 92, 'd': 475},\n",
       "  108: {'seed': 321, 'd': 800},\n",
       "  109: {'seed': 69, 'd': 900},\n",
       "  110: {'seed': 40, 'd': 5},\n",
       "  111: {'seed': 21, 'd': 75},\n",
       "  112: {'seed': 129, 'd': 100},\n",
       "  113: {'seed': 304, 'd': 1750},\n",
       "  114: {'seed': 166, 'd': 225},\n",
       "  115: {'seed': 45, 'd': 275},\n",
       "  116: {'seed': 110, 'd': 325},\n",
       "  117: {'seed': 257, 'd': 475},\n",
       "  118: {'seed': 43, 'd': 800},\n",
       "  119: {'seed': 216, 'd': 900}},\n",
       " 'done': {27: {'seed': 283, 'd': 500},\n",
       "  4: {'seed': 137, 'd': 250},\n",
       "  24: {'seed': 343, 'd': 250},\n",
       "  13: {'seed': 388, 'd': 200},\n",
       "  30: {'seed': 399, 'd': 5},\n",
       "  9: {'seed': 143, 'd': 700},\n",
       "  10: {'seed': 247, 'd': 5},\n",
       "  37: {'seed': 137, 'd': 500},\n",
       "  0: {'seed': 99, 'd': 5},\n",
       "  32: {'seed': 198, 'd': 150}},\n",
       " 'ongoing': {},\n",
       " 'n_jobs': 120,\n",
       " 'results': [{'test_acc_history': [0.24402866242038215,\n",
       "    0.3054339171974522,\n",
       "    0.3690286624203822],\n",
       "   'train_acc_history': [0.2519648203592814,\n",
       "    0.30969311377245506,\n",
       "    0.374500998003992],\n",
       "   'd': 500},\n",
       "  {'test_acc_history': [0.16520700636942676,\n",
       "    0.2679140127388535,\n",
       "    0.2584593949044586],\n",
       "   'train_acc_history': [0.16398453093812376,\n",
       "    0.2618824850299401,\n",
       "    0.26135229540918165],\n",
       "   'd': 250},\n",
       "  {'test_acc_history': [0.21675955414012738,\n",
       "    0.25119426751592355,\n",
       "    0.272093949044586],\n",
       "   'train_acc_history': [0.2125748502994012,\n",
       "    0.24815993013972057,\n",
       "    0.27392090818363274],\n",
       "   'd': 250},\n",
       "  {'test_acc_history': [0.26383359872611467,\n",
       "    0.32543789808917195,\n",
       "    0.36673964968152867],\n",
       "   'train_acc_history': [0.25714196606786427,\n",
       "    0.3150573852295409,\n",
       "    0.3667352794411178],\n",
       "   'd': 200},\n",
       "  {'test_acc_history': [0.10499601910828026,\n",
       "    0.13335987261146498,\n",
       "    0.1272890127388535],\n",
       "   'train_acc_history': [0.10784680638722555,\n",
       "    0.13295284431137724,\n",
       "    0.1275573852295409],\n",
       "   'd': 5},\n",
       "  {'test_acc_history': [0.3476313694267516,\n",
       "    0.3740047770700637,\n",
       "    0.35658837579617836],\n",
       "   'train_acc_history': [0.35142215568862273,\n",
       "    0.3696981037924152,\n",
       "    0.36414670658682635],\n",
       "   'd': 700},\n",
       "  {'test_acc_history': [0.09842754777070063,\n",
       "    0.07762738853503184,\n",
       "    0.07175557324840764],\n",
       "   'train_acc_history': [0.0998939620758483,\n",
       "    0.0719810379241517,\n",
       "    0.06842564870259481],\n",
       "   'd': 5},\n",
       "  {'test_acc_history': [0.2848328025477707,\n",
       "    0.3586783439490446,\n",
       "    0.3847531847133758],\n",
       "   'train_acc_history': [0.28867265469061876,\n",
       "    0.3613398203592814,\n",
       "    0.3783058882235529],\n",
       "   'd': 500},\n",
       "  {'test_acc_history': [0.09832802547770701,\n",
       "    0.10230891719745223,\n",
       "    0.10191082802547771],\n",
       "   'train_acc_history': [0.09746132734530938,\n",
       "    0.09786676646706587,\n",
       "    0.10070484031936128],\n",
       "   'd': 5},\n",
       "  {'test_acc_history': [0.2243232484076433,\n",
       "    0.26582404458598724,\n",
       "    0.29796974522292996],\n",
       "   'train_acc_history': [0.2217440119760479,\n",
       "    0.2593874750499002,\n",
       "    0.28879740518962077],\n",
       "   'd': 150}]}"
      ]
     },
     "execution_count": 4,
     "metadata": {},
     "output_type": "execute_result"
    }
   ],
   "source": [
    "dispatcher.state"
   ]
  },
  {
   "cell_type": "code",
   "execution_count": null,
   "metadata": {
    "scrolled": false
   },
   "outputs": [
    {
     "data": {
      "application/vnd.jupyter.widget-view+json": {
       "model_id": "e870eefd7ee64a1bbedd3a68ad1754a1",
       "version_major": 2,
       "version_minor": 0
      },
      "text/html": [
       "<p>Failed to display Jupyter Widget of type <code>HBox</code>.</p>\n",
       "<p>\n",
       "  If you're reading this message in the Jupyter Notebook or JupyterLab Notebook, it may mean\n",
       "  that the widgets JavaScript is still loading. If this message persists, it\n",
       "  likely means that the widgets JavaScript library is either not installed or\n",
       "  not enabled. See the <a href=\"https://ipywidgets.readthedocs.io/en/stable/user_install.html\">Jupyter\n",
       "  Widgets Documentation</a> for setup instructions.\n",
       "</p>\n",
       "<p>\n",
       "  If you're reading this message in another frontend (for example, a static\n",
       "  rendering on GitHub or <a href=\"https://nbviewer.jupyter.org/\">NBViewer</a>),\n",
       "  it may mean that your frontend doesn't currently support widgets.\n",
       "</p>\n"
      ],
      "text/plain": [
       "HBox(children=(IntProgress(value=0, max=3), HTML(value='')))"
      ]
     },
     "metadata": {},
     "output_type": "display_data"
    },
    {
     "name": "stderr",
     "output_type": "stream",
     "text": [
      "/usr/lib/python3.6/site-packages/torch/tensor.py:255: UserWarning: non-inplace resize is deprecated\n",
      "  warnings.warn(\"non-inplace resize is deprecated\")\n"
     ]
    },
    {
     "name": "stdout",
     "output_type": "stream",
     "text": [
      "Validating\n",
      "Validating\n",
      "Validating\n",
      "\n",
      "Testing\n"
     ]
    },
    {
     "data": {
      "application/vnd.jupyter.widget-view+json": {
       "model_id": "ba2fc6f659c4433886b18e4062d71f6a",
       "version_major": 2,
       "version_minor": 0
      },
      "text/html": [
       "<p>Failed to display Jupyter Widget of type <code>HBox</code>.</p>\n",
       "<p>\n",
       "  If you're reading this message in the Jupyter Notebook or JupyterLab Notebook, it may mean\n",
       "  that the widgets JavaScript is still loading. If this message persists, it\n",
       "  likely means that the widgets JavaScript library is either not installed or\n",
       "  not enabled. See the <a href=\"https://ipywidgets.readthedocs.io/en/stable/user_install.html\">Jupyter\n",
       "  Widgets Documentation</a> for setup instructions.\n",
       "</p>\n",
       "<p>\n",
       "  If you're reading this message in another frontend (for example, a static\n",
       "  rendering on GitHub or <a href=\"https://nbviewer.jupyter.org/\">NBViewer</a>),\n",
       "  it may mean that your frontend doesn't currently support widgets.\n",
       "</p>\n"
      ],
      "text/plain": [
       "HBox(children=(IntProgress(value=0, max=3), HTML(value='')))"
      ]
     },
     "metadata": {},
     "output_type": "display_data"
    },
    {
     "name": "stdout",
     "output_type": "stream",
     "text": [
      "Validating\n",
      "Validating\n",
      "Validating\n",
      "\n",
      "Testing\n"
     ]
    },
    {
     "data": {
      "application/vnd.jupyter.widget-view+json": {
       "model_id": "1f079a1d77314c93a387f1a6e45c8f95",
       "version_major": 2,
       "version_minor": 0
      },
      "text/html": [
       "<p>Failed to display Jupyter Widget of type <code>HBox</code>.</p>\n",
       "<p>\n",
       "  If you're reading this message in the Jupyter Notebook or JupyterLab Notebook, it may mean\n",
       "  that the widgets JavaScript is still loading. If this message persists, it\n",
       "  likely means that the widgets JavaScript library is either not installed or\n",
       "  not enabled. See the <a href=\"https://ipywidgets.readthedocs.io/en/stable/user_install.html\">Jupyter\n",
       "  Widgets Documentation</a> for setup instructions.\n",
       "</p>\n",
       "<p>\n",
       "  If you're reading this message in another frontend (for example, a static\n",
       "  rendering on GitHub or <a href=\"https://nbviewer.jupyter.org/\">NBViewer</a>),\n",
       "  it may mean that your frontend doesn't currently support widgets.\n",
       "</p>\n"
      ],
      "text/plain": [
       "HBox(children=(IntProgress(value=0, max=3), HTML(value='')))"
      ]
     },
     "metadata": {},
     "output_type": "display_data"
    }
   ],
   "source": [
    "model_rp = ConvRP\n",
    "opt = torch.optim.Adam\n",
    "criterion = nn.CrossEntropyLoss()\n",
    "\n",
    "while(True):\n",
    "    try:\n",
    "        job_id, params = dispatcher.get_job()\n",
    "        \n",
    "    except IndexError:\n",
    "        break\n",
    "        \n",
    "    output = Dgrid_train(network_class=ConvRP, \n",
    "                   network_args={'d':None}, \n",
    "                   optimizer_class=opt, \n",
    "                   optimizer_args={'lr':0.001},\n",
    "                   criterion=criterion, \n",
    "                   train_data=train_data, \n",
    "                   test_data=test_data, \n",
    "                   epoches=3, \n",
    "                   flatten = False,\n",
    "                   d=params['d'], \n",
    "                   verbose=True)\n",
    "        \n",
    "    dispatcher.finish_job(job_id, output)"
   ]
  },
  {
   "cell_type": "code",
   "execution_count": null,
   "metadata": {
    "collapsed": true
   },
   "outputs": [],
   "source": [
    "dispatcher.state"
   ]
  },
  {
   "cell_type": "code",
   "execution_count": null,
   "metadata": {
    "collapsed": true
   },
   "outputs": [],
   "source": []
  }
 ],
 "metadata": {
  "kernelspec": {
   "display_name": "Python 3",
   "language": "python",
   "name": "python3"
  },
  "language_info": {
   "codemirror_mode": {
    "name": "ipython",
    "version": 3
   },
   "file_extension": ".py",
   "mimetype": "text/x-python",
   "name": "python",
   "nbconvert_exporter": "python",
   "pygments_lexer": "ipython3",
   "version": "3.6.3"
  }
 },
 "nbformat": 4,
 "nbformat_minor": 2
}
