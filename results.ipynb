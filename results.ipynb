{
 "cells": [
  {
   "cell_type": "code",
   "execution_count": 9,
   "metadata": {},
   "outputs": [],
   "source": [
    "import json\n",
    "from matplotlib import pyplot as plt\n",
    "\n",
    "from dispatcher import Decoder"
   ]
  },
  {
   "cell_type": "code",
   "execution_count": 17,
   "metadata": {},
   "outputs": [],
   "source": [
    "with open('state.json') as f:\n",
    "    j = f.read()\n",
    "    state = json.loads(j, cls=Decoder)\n",
    "    "
   ]
  },
  {
   "cell_type": "code",
   "execution_count": 18,
   "metadata": {},
   "outputs": [],
   "source": [
    "results = state['results']"
   ]
  },
  {
   "cell_type": "code",
   "execution_count": 19,
   "metadata": {},
   "outputs": [
    {
     "data": {
      "text/plain": [
       "[{'test_acc_history': [0.24402866242038215,\n",
       "   0.3054339171974522,\n",
       "   0.3690286624203822],\n",
       "  'train_acc_history': [0.2519648203592814,\n",
       "   0.30969311377245506,\n",
       "   0.374500998003992],\n",
       "  'd': 500},\n",
       " {'test_acc_history': [0.16520700636942676,\n",
       "   0.2679140127388535,\n",
       "   0.2584593949044586],\n",
       "  'train_acc_history': [0.16398453093812376,\n",
       "   0.2618824850299401,\n",
       "   0.26135229540918165],\n",
       "  'd': 250},\n",
       " {'test_acc_history': [0.21675955414012738,\n",
       "   0.25119426751592355,\n",
       "   0.272093949044586],\n",
       "  'train_acc_history': [0.2125748502994012,\n",
       "   0.24815993013972057,\n",
       "   0.27392090818363274],\n",
       "  'd': 250},\n",
       " {'test_acc_history': [0.26383359872611467,\n",
       "   0.32543789808917195,\n",
       "   0.36673964968152867],\n",
       "  'train_acc_history': [0.25714196606786427,\n",
       "   0.3150573852295409,\n",
       "   0.3667352794411178],\n",
       "  'd': 200},\n",
       " {'test_acc_history': [0.10499601910828026,\n",
       "   0.13335987261146498,\n",
       "   0.1272890127388535],\n",
       "  'train_acc_history': [0.10784680638722555,\n",
       "   0.13295284431137724,\n",
       "   0.1275573852295409],\n",
       "  'd': 5},\n",
       " {'test_acc_history': [0.3476313694267516,\n",
       "   0.3740047770700637,\n",
       "   0.35658837579617836],\n",
       "  'train_acc_history': [0.35142215568862273,\n",
       "   0.3696981037924152,\n",
       "   0.36414670658682635],\n",
       "  'd': 700},\n",
       " {'test_acc_history': [0.09842754777070063,\n",
       "   0.07762738853503184,\n",
       "   0.07175557324840764],\n",
       "  'train_acc_history': [0.0998939620758483,\n",
       "   0.0719810379241517,\n",
       "   0.06842564870259481],\n",
       "  'd': 5},\n",
       " {'test_acc_history': [0.2848328025477707,\n",
       "   0.3586783439490446,\n",
       "   0.3847531847133758],\n",
       "  'train_acc_history': [0.28867265469061876,\n",
       "   0.3613398203592814,\n",
       "   0.3783058882235529],\n",
       "  'd': 500},\n",
       " {'test_acc_history': [0.09832802547770701,\n",
       "   0.10230891719745223,\n",
       "   0.10191082802547771],\n",
       "  'train_acc_history': [0.09746132734530938,\n",
       "   0.09786676646706587,\n",
       "   0.10070484031936128],\n",
       "  'd': 5},\n",
       " {'test_acc_history': [0.2243232484076433,\n",
       "   0.26582404458598724,\n",
       "   0.29796974522292996],\n",
       "  'train_acc_history': [0.2217440119760479,\n",
       "   0.2593874750499002,\n",
       "   0.28879740518962077],\n",
       "  'd': 150},\n",
       " {'test_acc_history': [0.23964968152866242,\n",
       "   0.3039410828025478,\n",
       "   0.34136146496815284],\n",
       "  'train_acc_history': [0.23234780439121758,\n",
       "   0.29519086826347307,\n",
       "   0.3379179141716567],\n",
       "  'd': 225},\n",
       " {'test_acc_history': [0.2369625796178344,\n",
       "   0.25149283439490444,\n",
       "   0.30981289808917195],\n",
       "  'train_acc_history': [0.23415668662674652,\n",
       "   0.25349301397205587,\n",
       "   0.31175149700598803],\n",
       "  'd': 400},\n",
       " {'test_acc_history': [0.22780652866242038,\n",
       "   0.26164410828025475,\n",
       "   0.4440684713375796],\n",
       "  'train_acc_history': [0.234187874251497,\n",
       "   0.27292290419161674,\n",
       "   0.44788547904191617],\n",
       "  'd': 800},\n",
       " {'test_acc_history': [0.25149283439490444,\n",
       "   0.3026472929936306,\n",
       "   0.3271297770700637],\n",
       "  'train_acc_history': [0.24878368263473055,\n",
       "   0.3054515968063872,\n",
       "   0.3236963572854291],\n",
       "  'd': 250},\n",
       " {'test_acc_history': [0.26263933121019106,\n",
       "   0.2538813694267516,\n",
       "   0.18053343949044587],\n",
       "  'train_acc_history': [0.25711077844311375,\n",
       "   0.25614396207584833,\n",
       "   0.17985903193612773],\n",
       "  'd': 900},\n",
       " {'test_acc_history': [0.10141321656050956,\n",
       "   0.1057921974522293,\n",
       "   0.1067874203821656],\n",
       "  'train_acc_history': [0.1031686626746507,\n",
       "   0.10759730538922156,\n",
       "   0.10834580838323353],\n",
       "  'd': 5},\n",
       " {'test_acc_history': [0.4208797770700637,\n",
       "   0.24402866242038215,\n",
       "   0.31648089171974525],\n",
       "  'train_acc_history': [0.4176646706586826,\n",
       "   0.2471619261477046,\n",
       "   0.3214196606786427],\n",
       "  'd': 1750},\n",
       " {'test_acc_history': [0.09345143312101911,\n",
       "   0.12340764331210191,\n",
       "   0.1591361464968153],\n",
       "  'train_acc_history': [0.09172280439121756,\n",
       "   0.12041541916167664,\n",
       "   0.15481536926147704],\n",
       "  'd': 50},\n",
       " {'test_acc_history': [0.32016321656050956,\n",
       "   0.3190684713375796,\n",
       "   0.3958996815286624],\n",
       "  'train_acc_history': [0.31686626746506985,\n",
       "   0.32513098802395207,\n",
       "   0.39439870259481036],\n",
       "  'd': 475},\n",
       " {'test_acc_history': [0.26741640127388533,\n",
       "   0.24492436305732485,\n",
       "   0.28791799363057324],\n",
       "  'train_acc_history': [0.2684942614770459,\n",
       "   0.2440431636726547,\n",
       "   0.28474301397205587],\n",
       "  'd': 800},\n",
       " {'test_acc_history': [0.2275079617834395,\n",
       "   0.272093949044586,\n",
       "   0.3171775477707006],\n",
       "  'train_acc_history': [0.2281062874251497,\n",
       "   0.2717377744510978,\n",
       "   0.3175212075848303],\n",
       "  'd': 300},\n",
       " {'test_acc_history': [0.20093550955414013,\n",
       "   0.28144904458598724,\n",
       "   0.31598328025477707],\n",
       "  'train_acc_history': [0.20100424151696608,\n",
       "   0.28100049900199603,\n",
       "   0.3187999001996008],\n",
       "  'd': 150},\n",
       " {'test_acc_history': [0.11464968152866242,\n",
       "   0.2074044585987261,\n",
       "   0.24203821656050956],\n",
       "  'train_acc_history': [0.12125748502994012,\n",
       "   0.20830214570858283,\n",
       "   0.24491641716566867],\n",
       "  'd': 100},\n",
       " {'test_acc_history': [0.2467157643312102,\n",
       "   0.3440485668789809,\n",
       "   0.40575238853503187],\n",
       "  'train_acc_history': [0.25162175648702595,\n",
       "   0.34162924151696605,\n",
       "   0.40194610778443113],\n",
       "  'd': 275},\n",
       " {'test_acc_history': [0.2373606687898089,\n",
       "   0.27129777070063693,\n",
       "   0.351015127388535],\n",
       "  'train_acc_history': [0.23325224550898205,\n",
       "   0.27728917165668665,\n",
       "   0.3548527944111776],\n",
       "  'd': 300},\n",
       " {'test_acc_history': [0.3066281847133758, 0.390625, 0.5200039808917197],\n",
       "  'train_acc_history': [0.2937250499001996,\n",
       "   0.39028193612774453,\n",
       "   0.5132235528942116],\n",
       "  'd': 800},\n",
       " {'test_acc_history': [0.2276074840764331,\n",
       "   0.288515127388535,\n",
       "   0.33160828025477707],\n",
       "  'train_acc_history': [0.21993512974051896,\n",
       "   0.27666541916167664,\n",
       "   0.326752744510978],\n",
       "  'd': 275},\n",
       " {'test_acc_history': [0.18083200636942676,\n",
       "   0.26990445859872614,\n",
       "   0.25696656050955413],\n",
       "  'train_acc_history': [0.16610528942115768,\n",
       "   0.2586701596806387,\n",
       "   0.26312999001996007],\n",
       "  'd': 200},\n",
       " {'test_acc_history': [0.10131369426751592,\n",
       "   0.10609076433121019,\n",
       "   0.12052149681528662],\n",
       "  'train_acc_history': [0.10463448103792415,\n",
       "   0.10843937125748503,\n",
       "   0.12082085828343313],\n",
       "  'd': 5},\n",
       " {'test_acc_history': [0.339171974522293,\n",
       "   0.3163813694267516,\n",
       "   0.20561305732484075],\n",
       "  'train_acc_history': [0.3352045908183633,\n",
       "   0.312312874251497,\n",
       "   0.2061813872255489],\n",
       "  'd': 900}]"
      ]
     },
     "execution_count": 19,
     "metadata": {},
     "output_type": "execute_result"
    }
   ],
   "source": [
    "results"
   ]
  },
  {
   "cell_type": "code",
   "execution_count": 20,
   "metadata": {},
   "outputs": [],
   "source": [
    "ds = []\n",
    "accuracies = []\n",
    "\n",
    "for result in results:\n",
    "    ds.append(result['d'])\n",
    "    accuracies.append(result['train_acc_history'][-1])"
   ]
  },
  {
   "cell_type": "code",
   "execution_count": 21,
   "metadata": {},
   "outputs": [
    {
     "data": {
      "text/plain": [
       "<matplotlib.collections.PathCollection at 0x7f86e59af128>"
      ]
     },
     "execution_count": 21,
     "metadata": {},
     "output_type": "execute_result"
    },
    {
     "data": {
      "image/png": "[encoded data removed]",
      "text/plain": [
       "<matplotlib.figure.Figure at 0x7f86e5ae63c8>"
      ]
     },
     "metadata": {},
     "output_type": "display_data"
    }
   ],
   "source": [
    "plt.scatter(ds, accuracies)"
   ]
  },
  {
   "cell_type": "code",
   "execution_count": 15,
   "metadata": {},
   "outputs": [],
   "source": [
    "ds = []\n",
    "accuracies = []\n",
    "\n",
    "for result in results:\n",
    "    ds.append(result['d'])\n",
    "    accuracies.append(result['test_acc_history'][-1])"
   ]
  },
  {
   "cell_type": "code",
   "execution_count": 16,
   "metadata": {},
   "outputs": [
    {
     "data": {
      "text/plain": [
       "<matplotlib.collections.PathCollection at 0x7f86e5a36a58>"
      ]
     },
     "execution_count": 16,
     "metadata": {},
     "output_type": "execute_result"
    },
    {
     "data": {
      "image/png": "[encoded data removed]",
      "text/plain": [
       "<matplotlib.figure.Figure at 0x7f86e5aaf198>"
      ]
     },
     "metadata": {},
     "output_type": "display_data"
    }
   ],
   "source": [
    "plt.scatter(ds, accuracies)"
   ]
  },
  {
   "cell_type": "code",
   "execution_count": null,
   "metadata": {},
   "outputs": [],
   "source": []
  }
 ],
 "metadata": {
  "kernelspec": {
   "display_name": "Python 3",
   "language": "python",
   "name": "python3"
  },
  "language_info": {
   "codemirror_mode": {
    "name": "ipython",
    "version": 3
   },
   "file_extension": ".py",
   "mimetype": "text/x-python",
   "name": "python",
   "nbconvert_exporter": "python",
   "pygments_lexer": "ipython3",
   "version": "3.6.5"
  }
 },
 "nbformat": 4,
 "nbformat_minor": 2
}
